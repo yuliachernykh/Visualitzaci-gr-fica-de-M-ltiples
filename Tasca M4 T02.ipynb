{
 "cells": [
  {
   "cell_type": "markdown",
   "id": "6f7afac8",
   "metadata": {},
   "source": [
    "## Exercici 2\n",
    "Fes les tasques de preprocessat i adequació del Dataset que disposem en el repositori de GitHub PRE-PROCESSING-DATA amb l'objectiu de preparar-lo i treballar-lo com a dataframe per a extreure'n informació.\n",
    "\n",
    "El resultat final ha de ser un dataframe amb les variables de nom de la pel·lícula, any i genere. També és important quedar-se amb un sol gènere per a cada pel·lícula!"
   ]
  },
  {
   "cell_type": "code",
   "execution_count": 35,
   "id": "08035471",
   "metadata": {},
   "outputs": [],
   "source": [
    "import os \n",
    "import numpy as np\n",
    "import pandas as pd\n",
    "import matplotlib.pyplot as plt\n",
    "import seaborn as sns\n",
    "import warnings\n",
    "\n",
    "warnings.filterwarnings('ignore')"
   ]
  },
  {
   "cell_type": "code",
   "execution_count": 36,
   "id": "a6234079",
   "metadata": {},
   "outputs": [
    {
     "name": "stdout",
     "output_type": "stream",
     "text": [
      "/Users/yuliachernykh/Desktop/CURS Anàlisi DADES/Sprint 4/PRE-PROCESSING-DATA-main\n"
     ]
    }
   ],
   "source": [
    "#imprimir el directori on es guarda el quadern\n",
    "print(os.getcwd())"
   ]
  },
  {
   "cell_type": "code",
   "execution_count": 52,
   "id": "01c45cc1",
   "metadata": {},
   "outputs": [
    {
     "data": {
      "text/plain": [
       "['01 INTRODUCTION TO VARIABLES.ipynb',\n",
       " 'movies.dat',\n",
       " 'Tasca M4 T02.ipynb',\n",
       " '013 Python Regular Expression.ipynb',\n",
       " '007 Formatear Strings.ipynb',\n",
       " 'README.md',\n",
       " '.ipynb_checkpoints']"
      ]
     },
     "execution_count": 52,
     "metadata": {},
     "output_type": "execute_result"
    }
   ],
   "source": [
    "#veure què més conté la carpeta\n",
    "os.listdir(os.curdir)"
   ]
  },
  {
   "cell_type": "markdown",
   "id": "0be1b12d",
   "metadata": {},
   "source": [
    "Llegim l'arxiu i posem nous títols, col·locant d'index l'id de pel·lícula"
   ]
  },
  {
   "cell_type": "code",
   "execution_count": 38,
   "id": "f263ab61",
   "metadata": {},
   "outputs": [
    {
     "data": {
      "text/html": [
       "<div>\n",
       "<style scoped>\n",
       "    .dataframe tbody tr th:only-of-type {\n",
       "        vertical-align: middle;\n",
       "    }\n",
       "\n",
       "    .dataframe tbody tr th {\n",
       "        vertical-align: top;\n",
       "    }\n",
       "\n",
       "    .dataframe thead th {\n",
       "        text-align: right;\n",
       "    }\n",
       "</style>\n",
       "<table border=\"1\" class=\"dataframe\">\n",
       "  <thead>\n",
       "    <tr style=\"text-align: right;\">\n",
       "      <th></th>\n",
       "      <th>Titol</th>\n",
       "      <th>Genere</th>\n",
       "    </tr>\n",
       "    <tr>\n",
       "      <th>Movie_id</th>\n",
       "      <th></th>\n",
       "      <th></th>\n",
       "    </tr>\n",
       "  </thead>\n",
       "  <tbody>\n",
       "    <tr>\n",
       "      <th>1</th>\n",
       "      <td>Toy Story (1995)</td>\n",
       "      <td>Animation|Children's|Comedy</td>\n",
       "    </tr>\n",
       "    <tr>\n",
       "      <th>2</th>\n",
       "      <td>Jumanji (1995)</td>\n",
       "      <td>Adventure|Children's|Fantasy</td>\n",
       "    </tr>\n",
       "    <tr>\n",
       "      <th>3</th>\n",
       "      <td>Grumpier Old Men (1995)</td>\n",
       "      <td>Comedy|Romance</td>\n",
       "    </tr>\n",
       "    <tr>\n",
       "      <th>4</th>\n",
       "      <td>Waiting to Exhale (1995)</td>\n",
       "      <td>Comedy|Drama</td>\n",
       "    </tr>\n",
       "    <tr>\n",
       "      <th>5</th>\n",
       "      <td>Father of the Bride Part II (1995)</td>\n",
       "      <td>Comedy</td>\n",
       "    </tr>\n",
       "    <tr>\n",
       "      <th>...</th>\n",
       "      <td>...</td>\n",
       "      <td>...</td>\n",
       "    </tr>\n",
       "    <tr>\n",
       "      <th>3948</th>\n",
       "      <td>Meet the Parents (2000)</td>\n",
       "      <td>Comedy</td>\n",
       "    </tr>\n",
       "    <tr>\n",
       "      <th>3949</th>\n",
       "      <td>Requiem for a Dream (2000)</td>\n",
       "      <td>Drama</td>\n",
       "    </tr>\n",
       "    <tr>\n",
       "      <th>3950</th>\n",
       "      <td>Tigerland (2000)</td>\n",
       "      <td>Drama</td>\n",
       "    </tr>\n",
       "    <tr>\n",
       "      <th>3951</th>\n",
       "      <td>Two Family House (2000)</td>\n",
       "      <td>Drama</td>\n",
       "    </tr>\n",
       "    <tr>\n",
       "      <th>3952</th>\n",
       "      <td>Contender, The (2000)</td>\n",
       "      <td>Drama|Thriller</td>\n",
       "    </tr>\n",
       "  </tbody>\n",
       "</table>\n",
       "<p>3883 rows × 2 columns</p>\n",
       "</div>"
      ],
      "text/plain": [
       "                                       Titol                        Genere\n",
       "Movie_id                                                                  \n",
       "1                           Toy Story (1995)   Animation|Children's|Comedy\n",
       "2                             Jumanji (1995)  Adventure|Children's|Fantasy\n",
       "3                    Grumpier Old Men (1995)                Comedy|Romance\n",
       "4                   Waiting to Exhale (1995)                  Comedy|Drama\n",
       "5         Father of the Bride Part II (1995)                        Comedy\n",
       "...                                      ...                           ...\n",
       "3948                 Meet the Parents (2000)                        Comedy\n",
       "3949              Requiem for a Dream (2000)                         Drama\n",
       "3950                        Tigerland (2000)                         Drama\n",
       "3951                 Two Family House (2000)                         Drama\n",
       "3952                   Contender, The (2000)                Drama|Thriller\n",
       "\n",
       "[3883 rows x 2 columns]"
      ]
     },
     "execution_count": 38,
     "metadata": {},
     "output_type": "execute_result"
    }
   ],
   "source": [
    "movies = pd.read_csv('movies.dat', sep ='::', encoding = 'ISO-8859-1', engine='python', names = ['Movie_id', 'Titol', 'Genere'], index_col='Movie_id')\n",
    "movies"
   ]
  },
  {
   "cell_type": "markdown",
   "id": "ac1d82fe",
   "metadata": {},
   "source": [
    "Eliminem els separadors de la columna \"Genere\""
   ]
  },
  {
   "cell_type": "code",
   "execution_count": 39,
   "id": "b148b9c5",
   "metadata": {},
   "outputs": [
    {
     "data": {
      "text/html": [
       "<div>\n",
       "<style scoped>\n",
       "    .dataframe tbody tr th:only-of-type {\n",
       "        vertical-align: middle;\n",
       "    }\n",
       "\n",
       "    .dataframe tbody tr th {\n",
       "        vertical-align: top;\n",
       "    }\n",
       "\n",
       "    .dataframe thead th {\n",
       "        text-align: right;\n",
       "    }\n",
       "</style>\n",
       "<table border=\"1\" class=\"dataframe\">\n",
       "  <thead>\n",
       "    <tr style=\"text-align: right;\">\n",
       "      <th></th>\n",
       "      <th>Titol</th>\n",
       "      <th>Genere</th>\n",
       "    </tr>\n",
       "    <tr>\n",
       "      <th>Movie_id</th>\n",
       "      <th></th>\n",
       "      <th></th>\n",
       "    </tr>\n",
       "  </thead>\n",
       "  <tbody>\n",
       "    <tr>\n",
       "      <th>1</th>\n",
       "      <td>Toy Story (1995)</td>\n",
       "      <td>[Animation, Children's, Comedy]</td>\n",
       "    </tr>\n",
       "    <tr>\n",
       "      <th>2</th>\n",
       "      <td>Jumanji (1995)</td>\n",
       "      <td>[Adventure, Children's, Fantasy]</td>\n",
       "    </tr>\n",
       "    <tr>\n",
       "      <th>3</th>\n",
       "      <td>Grumpier Old Men (1995)</td>\n",
       "      <td>[Comedy, Romance]</td>\n",
       "    </tr>\n",
       "    <tr>\n",
       "      <th>4</th>\n",
       "      <td>Waiting to Exhale (1995)</td>\n",
       "      <td>[Comedy, Drama]</td>\n",
       "    </tr>\n",
       "    <tr>\n",
       "      <th>5</th>\n",
       "      <td>Father of the Bride Part II (1995)</td>\n",
       "      <td>[Comedy]</td>\n",
       "    </tr>\n",
       "    <tr>\n",
       "      <th>6</th>\n",
       "      <td>Heat (1995)</td>\n",
       "      <td>[Action, Crime, Thriller]</td>\n",
       "    </tr>\n",
       "    <tr>\n",
       "      <th>7</th>\n",
       "      <td>Sabrina (1995)</td>\n",
       "      <td>[Comedy, Romance]</td>\n",
       "    </tr>\n",
       "    <tr>\n",
       "      <th>8</th>\n",
       "      <td>Tom and Huck (1995)</td>\n",
       "      <td>[Adventure, Children's]</td>\n",
       "    </tr>\n",
       "    <tr>\n",
       "      <th>9</th>\n",
       "      <td>Sudden Death (1995)</td>\n",
       "      <td>[Action]</td>\n",
       "    </tr>\n",
       "    <tr>\n",
       "      <th>10</th>\n",
       "      <td>GoldenEye (1995)</td>\n",
       "      <td>[Action, Adventure, Thriller]</td>\n",
       "    </tr>\n",
       "  </tbody>\n",
       "</table>\n",
       "</div>"
      ],
      "text/plain": [
       "                                       Titol                            Genere\n",
       "Movie_id                                                                      \n",
       "1                           Toy Story (1995)   [Animation, Children's, Comedy]\n",
       "2                             Jumanji (1995)  [Adventure, Children's, Fantasy]\n",
       "3                    Grumpier Old Men (1995)                 [Comedy, Romance]\n",
       "4                   Waiting to Exhale (1995)                   [Comedy, Drama]\n",
       "5         Father of the Bride Part II (1995)                          [Comedy]\n",
       "6                                Heat (1995)         [Action, Crime, Thriller]\n",
       "7                             Sabrina (1995)                 [Comedy, Romance]\n",
       "8                        Tom and Huck (1995)           [Adventure, Children's]\n",
       "9                        Sudden Death (1995)                          [Action]\n",
       "10                          GoldenEye (1995)     [Action, Adventure, Thriller]"
      ]
     },
     "execution_count": 39,
     "metadata": {},
     "output_type": "execute_result"
    }
   ],
   "source": [
    "movies['Genere'] = movies.Genere.str.split('|')\n",
    "movies.head(10)"
   ]
  },
  {
   "cell_type": "code",
   "execution_count": 40,
   "id": "ca6f1e13",
   "metadata": {
    "scrolled": true
   },
   "outputs": [
    {
     "data": {
      "text/html": [
       "<div>\n",
       "<style scoped>\n",
       "    .dataframe tbody tr th:only-of-type {\n",
       "        vertical-align: middle;\n",
       "    }\n",
       "\n",
       "    .dataframe tbody tr th {\n",
       "        vertical-align: top;\n",
       "    }\n",
       "\n",
       "    .dataframe thead th {\n",
       "        text-align: right;\n",
       "    }\n",
       "</style>\n",
       "<table border=\"1\" class=\"dataframe\">\n",
       "  <thead>\n",
       "    <tr style=\"text-align: right;\">\n",
       "      <th></th>\n",
       "      <th>Titol</th>\n",
       "      <th>Genere</th>\n",
       "    </tr>\n",
       "    <tr>\n",
       "      <th>Movie_id</th>\n",
       "      <th></th>\n",
       "      <th></th>\n",
       "    </tr>\n",
       "  </thead>\n",
       "  <tbody>\n",
       "    <tr>\n",
       "      <th>1</th>\n",
       "      <td>Toy Story (1995)</td>\n",
       "      <td>[Animation, Children's, Comedy]</td>\n",
       "    </tr>\n",
       "    <tr>\n",
       "      <th>2</th>\n",
       "      <td>Jumanji (1995)</td>\n",
       "      <td>[Adventure, Children's, Fantasy]</td>\n",
       "    </tr>\n",
       "    <tr>\n",
       "      <th>3</th>\n",
       "      <td>Grumpier Old Men (1995)</td>\n",
       "      <td>[Comedy, Romance]</td>\n",
       "    </tr>\n",
       "    <tr>\n",
       "      <th>4</th>\n",
       "      <td>Waiting to Exhale (1995)</td>\n",
       "      <td>[Comedy, Drama]</td>\n",
       "    </tr>\n",
       "    <tr>\n",
       "      <th>5</th>\n",
       "      <td>Father of the Bride Part II (1995)</td>\n",
       "      <td>[Comedy]</td>\n",
       "    </tr>\n",
       "    <tr>\n",
       "      <th>...</th>\n",
       "      <td>...</td>\n",
       "      <td>...</td>\n",
       "    </tr>\n",
       "    <tr>\n",
       "      <th>3948</th>\n",
       "      <td>Meet the Parents (2000)</td>\n",
       "      <td>[Comedy]</td>\n",
       "    </tr>\n",
       "    <tr>\n",
       "      <th>3949</th>\n",
       "      <td>Requiem for a Dream (2000)</td>\n",
       "      <td>[Drama]</td>\n",
       "    </tr>\n",
       "    <tr>\n",
       "      <th>3950</th>\n",
       "      <td>Tigerland (2000)</td>\n",
       "      <td>[Drama]</td>\n",
       "    </tr>\n",
       "    <tr>\n",
       "      <th>3951</th>\n",
       "      <td>Two Family House (2000)</td>\n",
       "      <td>[Drama]</td>\n",
       "    </tr>\n",
       "    <tr>\n",
       "      <th>3952</th>\n",
       "      <td>Contender, The (2000)</td>\n",
       "      <td>[Drama, Thriller]</td>\n",
       "    </tr>\n",
       "  </tbody>\n",
       "</table>\n",
       "<p>3883 rows × 2 columns</p>\n",
       "</div>"
      ],
      "text/plain": [
       "                                       Titol                            Genere\n",
       "Movie_id                                                                      \n",
       "1                           Toy Story (1995)   [Animation, Children's, Comedy]\n",
       "2                             Jumanji (1995)  [Adventure, Children's, Fantasy]\n",
       "3                    Grumpier Old Men (1995)                 [Comedy, Romance]\n",
       "4                   Waiting to Exhale (1995)                   [Comedy, Drama]\n",
       "5         Father of the Bride Part II (1995)                          [Comedy]\n",
       "...                                      ...                               ...\n",
       "3948                 Meet the Parents (2000)                          [Comedy]\n",
       "3949              Requiem for a Dream (2000)                           [Drama]\n",
       "3950                        Tigerland (2000)                           [Drama]\n",
       "3951                 Two Family House (2000)                           [Drama]\n",
       "3952                   Contender, The (2000)                 [Drama, Thriller]\n",
       "\n",
       "[3883 rows x 2 columns]"
      ]
     },
     "execution_count": 40,
     "metadata": {},
     "output_type": "execute_result"
    }
   ],
   "source": [
    "movies"
   ]
  },
  {
   "cell_type": "markdown",
   "id": "f7f63ebd",
   "metadata": {},
   "source": [
    "Mirem quantes files i columnes té la taula"
   ]
  },
  {
   "cell_type": "code",
   "execution_count": 41,
   "id": "408e99d9",
   "metadata": {},
   "outputs": [
    {
     "data": {
      "text/plain": [
       "(3883, 2)"
      ]
     },
     "execution_count": 41,
     "metadata": {},
     "output_type": "execute_result"
    }
   ],
   "source": [
    "movies.shape"
   ]
  },
  {
   "cell_type": "markdown",
   "id": "ba285e72",
   "metadata": {},
   "source": [
    "Creem una nova columna \"Any\", retallant aquests de la columna \"Titol\""
   ]
  },
  {
   "cell_type": "code",
   "execution_count": 42,
   "id": "19cd1605",
   "metadata": {
    "scrolled": true
   },
   "outputs": [
    {
     "data": {
      "text/html": [
       "<div>\n",
       "<style scoped>\n",
       "    .dataframe tbody tr th:only-of-type {\n",
       "        vertical-align: middle;\n",
       "    }\n",
       "\n",
       "    .dataframe tbody tr th {\n",
       "        vertical-align: top;\n",
       "    }\n",
       "\n",
       "    .dataframe thead th {\n",
       "        text-align: right;\n",
       "    }\n",
       "</style>\n",
       "<table border=\"1\" class=\"dataframe\">\n",
       "  <thead>\n",
       "    <tr style=\"text-align: right;\">\n",
       "      <th></th>\n",
       "      <th>Titol</th>\n",
       "      <th>Genere</th>\n",
       "      <th>Any</th>\n",
       "    </tr>\n",
       "    <tr>\n",
       "      <th>Movie_id</th>\n",
       "      <th></th>\n",
       "      <th></th>\n",
       "      <th></th>\n",
       "    </tr>\n",
       "  </thead>\n",
       "  <tbody>\n",
       "    <tr>\n",
       "      <th>1</th>\n",
       "      <td>Toy Story</td>\n",
       "      <td>[Animation, Children's, Comedy]</td>\n",
       "      <td>1995</td>\n",
       "    </tr>\n",
       "    <tr>\n",
       "      <th>2</th>\n",
       "      <td>Jumanji</td>\n",
       "      <td>[Adventure, Children's, Fantasy]</td>\n",
       "      <td>1995</td>\n",
       "    </tr>\n",
       "    <tr>\n",
       "      <th>3</th>\n",
       "      <td>Grumpier Old Men</td>\n",
       "      <td>[Comedy, Romance]</td>\n",
       "      <td>1995</td>\n",
       "    </tr>\n",
       "    <tr>\n",
       "      <th>4</th>\n",
       "      <td>Waiting to Exhale</td>\n",
       "      <td>[Comedy, Drama]</td>\n",
       "      <td>1995</td>\n",
       "    </tr>\n",
       "    <tr>\n",
       "      <th>5</th>\n",
       "      <td>Father of the Bride Part II</td>\n",
       "      <td>[Comedy]</td>\n",
       "      <td>1995</td>\n",
       "    </tr>\n",
       "    <tr>\n",
       "      <th>6</th>\n",
       "      <td>Heat</td>\n",
       "      <td>[Action, Crime, Thriller]</td>\n",
       "      <td>1995</td>\n",
       "    </tr>\n",
       "    <tr>\n",
       "      <th>7</th>\n",
       "      <td>Sabrina</td>\n",
       "      <td>[Comedy, Romance]</td>\n",
       "      <td>1995</td>\n",
       "    </tr>\n",
       "    <tr>\n",
       "      <th>8</th>\n",
       "      <td>Tom and Huck</td>\n",
       "      <td>[Adventure, Children's]</td>\n",
       "      <td>1995</td>\n",
       "    </tr>\n",
       "    <tr>\n",
       "      <th>9</th>\n",
       "      <td>Sudden Death</td>\n",
       "      <td>[Action]</td>\n",
       "      <td>1995</td>\n",
       "    </tr>\n",
       "    <tr>\n",
       "      <th>10</th>\n",
       "      <td>GoldenEye</td>\n",
       "      <td>[Action, Adventure, Thriller]</td>\n",
       "      <td>1995</td>\n",
       "    </tr>\n",
       "  </tbody>\n",
       "</table>\n",
       "</div>"
      ],
      "text/plain": [
       "                                 Titol                            Genere   Any\n",
       "Movie_id                                                                      \n",
       "1                           Toy Story    [Animation, Children's, Comedy]  1995\n",
       "2                             Jumanji   [Adventure, Children's, Fantasy]  1995\n",
       "3                    Grumpier Old Men                  [Comedy, Romance]  1995\n",
       "4                   Waiting to Exhale                    [Comedy, Drama]  1995\n",
       "5         Father of the Bride Part II                           [Comedy]  1995\n",
       "6                                Heat          [Action, Crime, Thriller]  1995\n",
       "7                             Sabrina                  [Comedy, Romance]  1995\n",
       "8                        Tom and Huck            [Adventure, Children's]  1995\n",
       "9                        Sudden Death                           [Action]  1995\n",
       "10                          GoldenEye      [Action, Adventure, Thriller]  1995"
      ]
     },
     "execution_count": 42,
     "metadata": {},
     "output_type": "execute_result"
    }
   ],
   "source": [
    "movies['Any'] = movies.Titol.str.slice(-5,-1)\n",
    "movies['Titol'] = movies.Titol.str.slice(0,-6)\n",
    "movies.head(10)"
   ]
  },
  {
   "cell_type": "markdown",
   "id": "d8ada384",
   "metadata": {},
   "source": [
    "Mirem quin tipus de dades tenim a les diferents columnes"
   ]
  },
  {
   "cell_type": "code",
   "execution_count": 43,
   "id": "17d8aaa6",
   "metadata": {},
   "outputs": [
    {
     "name": "stdout",
     "output_type": "stream",
     "text": [
      "<class 'pandas.core.frame.DataFrame'>\n",
      "Int64Index: 3883 entries, 1 to 3952\n",
      "Data columns (total 3 columns):\n",
      " #   Column  Non-Null Count  Dtype \n",
      "---  ------  --------------  ----- \n",
      " 0   Titol   3883 non-null   object\n",
      " 1   Genere  3883 non-null   object\n",
      " 2   Any     3883 non-null   object\n",
      "dtypes: object(3)\n",
      "memory usage: 121.3+ KB\n"
     ]
    }
   ],
   "source": [
    "movies.info()"
   ]
  },
  {
   "cell_type": "markdown",
   "id": "60615711",
   "metadata": {},
   "source": [
    "Canviem les dades de la columna \"Any\" a integers, ja que conté valors numèrics"
   ]
  },
  {
   "cell_type": "code",
   "execution_count": 44,
   "id": "5f431ceb",
   "metadata": {},
   "outputs": [
    {
     "name": "stdout",
     "output_type": "stream",
     "text": [
      "<class 'pandas.core.frame.DataFrame'>\n",
      "Int64Index: 3883 entries, 1 to 3952\n",
      "Data columns (total 3 columns):\n",
      " #   Column  Non-Null Count  Dtype \n",
      "---  ------  --------------  ----- \n",
      " 0   Titol   3883 non-null   object\n",
      " 1   Genere  3883 non-null   object\n",
      " 2   Any     3883 non-null   int64 \n",
      "dtypes: int64(1), object(2)\n",
      "memory usage: 121.3+ KB\n"
     ]
    }
   ],
   "source": [
    "movies['Any'] = movies.Any.astype(int)\n",
    "movies.info()"
   ]
  },
  {
   "cell_type": "markdown",
   "id": "21e6e269",
   "metadata": {},
   "source": [
    "Separem els gèneres de la columne \"Genere\" "
   ]
  },
  {
   "cell_type": "code",
   "execution_count": 45,
   "id": "8a61d3cb",
   "metadata": {},
   "outputs": [
    {
     "data": {
      "text/html": [
       "<div>\n",
       "<style scoped>\n",
       "    .dataframe tbody tr th:only-of-type {\n",
       "        vertical-align: middle;\n",
       "    }\n",
       "\n",
       "    .dataframe tbody tr th {\n",
       "        vertical-align: top;\n",
       "    }\n",
       "\n",
       "    .dataframe thead th {\n",
       "        text-align: right;\n",
       "    }\n",
       "</style>\n",
       "<table border=\"1\" class=\"dataframe\">\n",
       "  <thead>\n",
       "    <tr style=\"text-align: right;\">\n",
       "      <th></th>\n",
       "      <th>Titol</th>\n",
       "      <th>Genere</th>\n",
       "      <th>Any</th>\n",
       "    </tr>\n",
       "    <tr>\n",
       "      <th>Movie_id</th>\n",
       "      <th></th>\n",
       "      <th></th>\n",
       "      <th></th>\n",
       "    </tr>\n",
       "  </thead>\n",
       "  <tbody>\n",
       "    <tr>\n",
       "      <th>1</th>\n",
       "      <td>Toy Story</td>\n",
       "      <td>Animation</td>\n",
       "      <td>1995</td>\n",
       "    </tr>\n",
       "    <tr>\n",
       "      <th>2</th>\n",
       "      <td>Jumanji</td>\n",
       "      <td>Adventure</td>\n",
       "      <td>1995</td>\n",
       "    </tr>\n",
       "    <tr>\n",
       "      <th>3</th>\n",
       "      <td>Grumpier Old Men</td>\n",
       "      <td>Comedy</td>\n",
       "      <td>1995</td>\n",
       "    </tr>\n",
       "    <tr>\n",
       "      <th>4</th>\n",
       "      <td>Waiting to Exhale</td>\n",
       "      <td>Comedy</td>\n",
       "      <td>1995</td>\n",
       "    </tr>\n",
       "    <tr>\n",
       "      <th>5</th>\n",
       "      <td>Father of the Bride Part II</td>\n",
       "      <td>Comedy</td>\n",
       "      <td>1995</td>\n",
       "    </tr>\n",
       "    <tr>\n",
       "      <th>6</th>\n",
       "      <td>Heat</td>\n",
       "      <td>Action</td>\n",
       "      <td>1995</td>\n",
       "    </tr>\n",
       "    <tr>\n",
       "      <th>7</th>\n",
       "      <td>Sabrina</td>\n",
       "      <td>Comedy</td>\n",
       "      <td>1995</td>\n",
       "    </tr>\n",
       "    <tr>\n",
       "      <th>8</th>\n",
       "      <td>Tom and Huck</td>\n",
       "      <td>Adventure</td>\n",
       "      <td>1995</td>\n",
       "    </tr>\n",
       "    <tr>\n",
       "      <th>9</th>\n",
       "      <td>Sudden Death</td>\n",
       "      <td>Action</td>\n",
       "      <td>1995</td>\n",
       "    </tr>\n",
       "    <tr>\n",
       "      <th>10</th>\n",
       "      <td>GoldenEye</td>\n",
       "      <td>Action</td>\n",
       "      <td>1995</td>\n",
       "    </tr>\n",
       "  </tbody>\n",
       "</table>\n",
       "</div>"
      ],
      "text/plain": [
       "                                 Titol     Genere   Any\n",
       "Movie_id                                               \n",
       "1                           Toy Story   Animation  1995\n",
       "2                             Jumanji   Adventure  1995\n",
       "3                    Grumpier Old Men      Comedy  1995\n",
       "4                   Waiting to Exhale      Comedy  1995\n",
       "5         Father of the Bride Part II      Comedy  1995\n",
       "6                                Heat      Action  1995\n",
       "7                             Sabrina      Comedy  1995\n",
       "8                        Tom and Huck   Adventure  1995\n",
       "9                        Sudden Death      Action  1995\n",
       "10                          GoldenEye      Action  1995"
      ]
     },
     "execution_count": 45,
     "metadata": {},
     "output_type": "execute_result"
    }
   ],
   "source": [
    "movies['Genere'] = movies.Genere.str[0].str.strip() \n",
    "movies.head(10)"
   ]
  },
  {
   "cell_type": "markdown",
   "id": "d2d61e0c",
   "metadata": {},
   "source": [
    "## Exercici 3\n",
    "\n",
    "Mostra la teva creativitat. Què creus rellevant mostrar del Dataset \"movies.dat\" de l'exercici anterior?\n",
    "\n",
    "Fes una o dues representacions gràfiques i justifica la teva elecció."
   ]
  },
  {
   "cell_type": "markdown",
   "id": "46fb8a0a",
   "metadata": {},
   "source": [
    "Hem triat una gràfica de countplot per comptar els registres per gènere. És una opció còmode per quan es vol mostrar una sola variable. De la mateixa manera l'histograma, que mostra la distribució de freqüències, és una bona opció per mostrar els registres per any. Són gràfiques on és fàcil veure la distribució. Crec que són dades importants a analitzar en una primera exploració de per veure els gèneres més representatius i en quina època es van fer més pel·lícules."
   ]
  },
  {
   "cell_type": "markdown",
   "id": "410043cd",
   "metadata": {},
   "source": [
    "Mostrem les registres per gènere de més a menys. "
   ]
  },
  {
   "cell_type": "code",
   "execution_count": 46,
   "id": "5793e6da",
   "metadata": {},
   "outputs": [
    {
     "name": "stdout",
     "output_type": "stream",
     "text": [
      "Drama          1176\n",
      "Comedy         1024\n",
      "Action          503\n",
      "Horror          262\n",
      "Adventure       155\n",
      "Crime           131\n",
      "Documentary     123\n",
      "Thriller        101\n",
      "Animation        90\n",
      "Children's       89\n",
      "Romance          50\n",
      "Sci-Fi           46\n",
      "Mystery          36\n",
      "Western          33\n",
      "Film-Noir        25\n",
      "Musical          25\n",
      "War              12\n",
      "Fantasy           2\n",
      "Name: Genere, dtype: int64\n"
     ]
    },
    {
     "data": {
      "image/png": "[encoded data removed]",
      "text/plain": [
       "<Figure size 1440x1080 with 1 Axes>"
      ]
     },
     "metadata": {
      "needs_background": "light"
     },
     "output_type": "display_data"
    }
   ],
   "source": [
    "print(movies[\"Genere\"].value_counts().sort_values(ascending=False))\n",
    "plt.figure(figsize=(20,15))\n",
    "sns.countplot(x='Genere', data=movies, order = movies['Genere'].value_counts().index, edgecolor=\"black\");\n",
    "plt.title('Pel·lícules per gènere', fontsize=25)\n",
    "plt.show()"
   ]
  },
  {
   "cell_type": "markdown",
   "id": "ae420e59",
   "metadata": {},
   "source": [
    "Veiem que el gènere de drama, el de comèdia i d'acció són els que més pel·lícules representen a la base de dades. Fantasia, guerra i musical són els gèneres amb menys pel·lícules."
   ]
  },
  {
   "cell_type": "markdown",
   "id": "9b4078f7",
   "metadata": {},
   "source": [
    "Mostrem quantes pel·lícules per any s'han fet"
   ]
  },
  {
   "cell_type": "code",
   "execution_count": 50,
   "id": "fb1de541",
   "metadata": {},
   "outputs": [
    {
     "name": "stdout",
     "output_type": "stream",
     "text": [
      "1996    345\n",
      "1995    342\n",
      "1998    337\n",
      "1997    315\n",
      "1999    283\n",
      "       ... \n",
      "1923      3\n",
      "1919      3\n",
      "1922      2\n",
      "1920      2\n",
      "1921      1\n",
      "Name: Any, Length: 81, dtype: int64\n"
     ]
    },
    {
     "data": {
      "image/png": "[encoded data removed]",
      "text/plain": [
       "<Figure size 720x720 with 1 Axes>"
      ]
     },
     "metadata": {
      "needs_background": "light"
     },
     "output_type": "display_data"
    }
   ],
   "source": [
    "print(movies[\"Any\"].value_counts())\n",
    "plt.figure(figsize=(10,10))\n",
    "sns.histplot(x=\"Any\", data=movies, edgecolor=\"black\")\n",
    "plt.xticks(rotation=90);\n",
    "plt.title('Pel·lícules per any', fontsize=15)\n",
    "plt.show()"
   ]
  },
  {
   "cell_type": "markdown",
   "id": "90fbf7b0",
   "metadata": {},
   "source": [
    "Veiem que el gran gruix de pel·lícules són fetes entre els anys 1990 i el 2000. "
   ]
  }
 ],
 "metadata": {
  "kernelspec": {
   "display_name": "Python 3 (ipykernel)",
   "language": "python",
   "name": "python3"
  },
  "language_info": {
   "codemirror_mode": {
    "name": "ipython",
    "version": 3
   },
   "file_extension": ".py",
   "mimetype": "text/x-python",
   "name": "python",
   "nbconvert_exporter": "python",
   "pygments_lexer": "ipython3",
   "version": "3.9.12"
  }
 },
 "nbformat": 4,
 "nbformat_minor": 5
}
